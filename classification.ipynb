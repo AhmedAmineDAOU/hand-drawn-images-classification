{
 "cells": [
  {
   "cell_type": "markdown",
   "metadata": {},
   "source": [
    "# Classification d'images\n",
    "\n",
    "### Imports"
   ]
  },
  {
   "cell_type": "code",
   "execution_count": 40,
   "metadata": {},
   "outputs": [],
   "source": [
    "# Pandas & numpy pour la manipulation des donnees\n",
    "import pandas as pd\n",
    "import numpy as np\n",
    "import cv2\n",
    "\n",
    "\n",
    "#division des donnees en training & testing\n",
    "from sklearn.model_selection import train_test_split\n",
    "\n",
    "# Matplotlib visualization\n",
    "import matplotlib.pyplot as plt\n",
    "%matplotlib inline\n",
    "\n",
    "# taille de police par defaut\n",
    "plt.rcParams['font.size'] = 24\n",
    "\n",
    "# taille de figures\n",
    "from IPython.core.pylabtools import figsize\n",
    "\n",
    "# Imputing missing values and scaling values\n",
    "from sklearn.preprocessing import Imputer, MinMaxScaler\n",
    "\n",
    "# Models d'aprentissage machine\n",
    "from sklearn.linear_model import LinearRegression\n",
    "from sklearn.ensemble import RandomForestRegressor, GradientBoostingRegressor\n",
    "from sklearn.svm import SVR\n",
    "from sklearn.neighbors import KNeighborsRegressor\n",
    "\n",
    "# Mise à jour des hyperparametres\n",
    "from sklearn.model_selection import RandomizedSearchCV, GridSearchCV\n",
    "\n",
    "from numpy import genfromtxt\n",
    "from scipy import ndimage"
   ]
  },
  {
   "cell_type": "markdown",
   "metadata": {},
   "source": [
    "### Fonctions utiles"
   ]
  },
  {
   "cell_type": "code",
   "execution_count": 41,
   "metadata": {},
   "outputs": [],
   "source": [
    "def centerimg(im):\n",
    "# Determine Centre of Mass\n",
    "\n",
    "    com = ndimage.measurements.center_of_mass(im)\n",
    "    # Translation distances in x and y axis\n",
    "\n",
    "    x_trans = int(im.shape[0]//2-com[0])\n",
    "    y_trans = int(im.shape[1]//2-com[1])\n",
    "\n",
    "    # Pad and remove pixels from image to perform translation\n",
    "\n",
    "    if x_trans > 0:\n",
    "        im2 = np.pad(im, ((x_trans, 0), (0, 0)), mode='constant')\n",
    "        #im2 = im2[:im.shape[0]-x_trans, :]\n",
    "    else:\n",
    "        im2 = np.pad(im, ((0, -x_trans), (0, 0)), mode='constant')\n",
    "        im2 = im2[-x_trans:, :]\n",
    "\n",
    "    if y_trans > 0:\n",
    "        im3 = np.pad(im2, ((0, 0), (y_trans, 0)), mode='constant')\n",
    "        #im3 = im3[:, :im.shape[0]-y_trans]\n",
    "\n",
    "    else:\n",
    "        im3 = np.pad(im2, ((0, 0), (0, -y_trans)), mode='constant')\n",
    "        im3 = im3[:, -y_trans:]\n",
    "    im3=im3[35:85,35:85].copy()\n",
    "    #plt.imshow(img2)\n",
    "    return im3\n",
    "\n",
    "\n",
    "def filterimg(matrix):\n",
    "    import cv2\n",
    "    from sklearn import preprocessing,cross_validation,neighbors\n",
    "    import pandas as pd\n",
    "    import numpy as np\n",
    "    import matplotlib.pyplot as plt\n",
    "    %matplotlib inline\n",
    "    X_new=[]\n",
    "    #reshape gives a new shape to an array without changing its data.\n",
    "    for i in range(0,10000):\n",
    "        square = matrix[i].reshape(100,100)\n",
    "        square=np.int8(square)\n",
    "        image = square.astype('uint8')\n",
    "        nb_components, output, stats, centroids = cv2.connectedComponentsWithStats(image, connectivity=4)\n",
    "        sizes = stats[:, -1]\n",
    "        max_label = 1\n",
    "        max_size = sizes[1]\n",
    "        for i in range(2, nb_components):\n",
    "            if sizes[i] > max_size:\n",
    "                max_label = i\n",
    "                max_size = sizes[i]\n",
    "        img2 = np.zeros(output.shape)\n",
    "        img2[output == max_label] = 255\n",
    "        img2=centerimg(img2)\n",
    "        img2=img2.reshape(-1,2500)\n",
    "        X_new.append(img2)\n",
    "    X_new=np.array(X_new).reshape(len(X_new),-1)\n",
    "    return(X_new)\n",
    "\n",
    "def convert_classes_to_integers(train_labels, set_classes):\n",
    "    for i_l in range(len(train_labels)):\n",
    "        found = False\n",
    "        for i_c, c in enumerate(set_classes):\n",
    "            if c == train_labels[i_l]:\n",
    "                train_labels[i_l] = i_c\n",
    "                found = True\n",
    "                break\n",
    "\n",
    "        if not found:\n",
    "            print('label = ', train_labels[i_l], 'found at row ', i_l, ' is NOT in our set of classes !! ABORT')\n",
    "            quit()\n",
    "\n",
    "    print(train_labels)\n",
    "    return train_labels.astype(int)\n",
    "\n",
    "\n",
    "def transform_labels(set_classes):\n",
    "    train_labels = np.genfromtxt('train_labels.csv', delimiter=',',usecols=1, dtype='unicode', skip_header=1)\n",
    "\n",
    "    train_labels = convert_classes_to_integers(train_labels, set_classes)\n",
    "\n",
    "    print(train_labels)\n",
    "    np.savetxt('train_labels_int.txt', train_labels, fmt='%i')"
   ]
  },
  {
   "cell_type": "markdown",
   "metadata": {},
   "source": [
    "### Chargement des données"
   ]
  },
  {
   "cell_type": "code",
   "execution_count": 43,
   "metadata": {},
   "outputs": [],
   "source": [
    "#Informations sur les données d'entrainement\n",
    "train_features = np.load('train_images.npy', encoding='latin1')\n",
    "train_features=np.array(train_features[:,1])\n",
    "train_features= np.stack(train_features.ravel())\n",
    "\n",
    "\n",
    "#Informations sur les données du test\n",
    "test_features = np.load('test_images.npy', encoding='latin1')\n",
    "test_features=np.array(test_features[:,1])\n",
    "test_features= np.stack(test_features.ravel())\n",
    "\n",
    "\n",
    "#Informations sur les labels\n",
    "train_labels = np.genfromtxt('train_labels.csv', delimiter=',',usecols=1, dtype='unicode', skip_header=1)\n",
    "#print('train_labels.shape = ', train_labels.shape)\n",
    "\n",
    "set_classes = ('sink', 'pear', 'moustache', 'nose', 'skateboard', 'penguin',\n",
    "               'peanut', 'skull', 'panda', 'paintbrush', 'nail', 'apple', 'rifle',\n",
    "               'mug', 'sailboat', 'pineapple', 'spoon', 'rabbit', 'shovel', 'rollerskates',\n",
    "               'screwdriver', 'scorpion', 'rhinoceros', 'pool', 'octagon', 'pillow', 'parrot',\n",
    "               'squiggle', 'mouth', 'empty', 'pencil')\n",
    "\n"
   ]
  },
  {
   "cell_type": "markdown",
   "metadata": {},
   "source": [
    "### Echantillion : Examiner une image des données d'entrainement"
   ]
  },
  {
   "cell_type": "code",
   "execution_count": 60,
   "metadata": {},
   "outputs": [
    {
     "data": {
      "text/plain": [
       "<matplotlib.image.AxesImage at 0x7fcd93d64d30>"
      ]
     },
     "execution_count": 60,
     "metadata": {},
     "output_type": "execute_result"
    },
    {
     "data": {
      "image/png": "[encoded data removed]",
      "text/plain": [
       "<Figure size 432x288 with 1 Axes>"
      ]
     },
     "metadata": {},
     "output_type": "display_data"
    }
   ],
   "source": [
    "train_image1       = (train_features[2]).reshape(100,100)\n",
    "plt.imshow(train_image1)"
   ]
  },
  {
   "cell_type": "markdown",
   "metadata": {},
   "source": [
    "### Nettoyage des données"
   ]
  },
  {
   "cell_type": "code",
   "execution_count": 61,
   "metadata": {},
   "outputs": [],
   "source": [
    "X_new=filterimg(train_features)\n",
    "X_test=filterimg(test_features)"
   ]
  },
  {
   "cell_type": "markdown",
   "metadata": {},
   "source": [
    "### Echantillion : Examiner la meme image apres le traitement ( centrée+debruitée )"
   ]
  },
  {
   "cell_type": "code",
   "execution_count": 62,
   "metadata": {},
   "outputs": [
    {
     "data": {
      "text/plain": [
       "<matplotlib.image.AxesImage at 0x7fcd9808d198>"
      ]
     },
     "execution_count": 62,
     "metadata": {},
     "output_type": "execute_result"
    },
    {
     "data": {
      "image/png": "[encoded data removed]",
      "text/plain": [
       "<Figure size 432x288 with 1 Axes>"
      ]
     },
     "metadata": {},
     "output_type": "display_data"
    }
   ],
   "source": [
    "train_image1       = (X_new[2]).reshape(50,50)\n",
    "plt.imshow(train_image1)"
   ]
  },
  {
   "cell_type": "markdown",
   "metadata": {},
   "source": [
    "### Recherches des valeur manquantes"
   ]
  },
  {
   "cell_type": "code",
   "execution_count": 63,
   "metadata": {},
   "outputs": [],
   "source": [
    "imputer = Imputer(strategy='median') \n",
    "imputer.fit(X_new)\n",
    "X = imputer.transform(X_new)\n",
    "X_test = imputer.transform(X_test)"
   ]
  },
  {
   "cell_type": "code",
   "execution_count": 64,
   "metadata": {},
   "outputs": [
    {
     "name": "stdout",
     "output_type": "stream",
     "text": [
      "Valeurs manquantes dans les donnees d entrainement :  0\n",
      "Valeurs manquantes dans les donnees de test :  0\n"
     ]
    }
   ],
   "source": [
    "print('Valeurs manquantes dans les donnees d entrainement : ', np.sum(np.isnan(X)))\n",
    "print('Valeurs manquantes dans les donnees de test : ', np.sum(np.isnan(X_test)))"
   ]
  },
  {
   "cell_type": "code",
   "execution_count": 65,
   "metadata": {},
   "outputs": [
    {
     "name": "stdout",
     "output_type": "stream",
     "text": [
      "(array([], dtype=int64), array([], dtype=int64))\n",
      "(array([], dtype=int64), array([], dtype=int64))\n"
     ]
    }
   ],
   "source": [
    "#s'assurer que toutes les valeurs sont finies\n",
    "print(np.where(~np.isfinite(X)))\n",
    "print(np.where(~np.isfinite(X_test)))"
   ]
  },
  {
   "cell_type": "code",
   "execution_count": 83,
   "metadata": {},
   "outputs": [
    {
     "name": "stdout",
     "output_type": "stream",
     "text": [
      "['shovel' 'rifle' 'scorpion' ... 'rollerskates' 'mouth' 'pencil']\n"
     ]
    }
   ],
   "source": [
    "y = np.array(train_labels).reshape((-1, ))\n",
    "#y_test = np.array(test_labels).reshape((-1, ))\n",
    "print(y)"
   ]
  },
  {
   "cell_type": "markdown",
   "metadata": {},
   "source": [
    "### Normalisation des donnees :"
   ]
  },
  {
   "cell_type": "markdown",
   "metadata": {},
   "source": [
    "La normalisation des données est une etape importante dans la preparation des données dans l'aprentissage automatique. Elle a pour objectif de les valeurs des colonnes numériques dans la dataset afin d'utiliser une échelle commune,sans distoiotsion des difference dans les intervalles des valeur ni perte d'informations."
   ]
  },
  {
   "cell_type": "code",
   "execution_count": 77,
   "metadata": {},
   "outputs": [],
   "source": [
    "#Creation d'un objet de normalization dans un intervalle de 0-1\n",
    "scaler = MinMaxScaler(feature_range=(0, 1))\n",
    "\n",
    "# Fitting les donnees d'entrainement\n",
    "scaler.fit(X)\n",
    "\n",
    "# Transformation des donnees d'entrainement et de Test\n",
    "X = scaler.transform(X)\n",
    "X_test = scaler.transform(X_test)"
   ]
  },
  {
   "cell_type": "markdown",
   "metadata": {},
   "source": [
    "### Modeles a tester\n",
    "\n",
    "    1.Linear Regression\n",
    "    2.Support Vector Machine Regression\n",
    "    3.Random Forest Regression\n",
    "    4.Gradient Boosting Regression\n",
    "    5.K-Nearest Neighbors Regression\n"
   ]
  },
  {
   "cell_type": "code",
   "execution_count": 80,
   "metadata": {},
   "outputs": [],
   "source": [
    "# Function to calculate mean absolute error\n",
    "#def mae(y_true, y_pred):\n",
    "    #return np.mean(abs(y_true - y_pred))\n",
    "\n",
    "# Takes in a model, trains the model, and evaluates the model on the test set\n",
    "def fit_and_evaluate(model):\n",
    "    \n",
    "    # Train the model\n",
    "    model.fit(X, y)\n",
    "    \n",
    "    # Make predictions and evalute c.est la y_pred\n",
    "    model_pred = model.predict(X_test)\n",
    "    \n",
    "    #model_mae = mae(y_test, model_pred)\n",
    "    \n",
    "    # Return the performance metric\n",
    "    #return model_mae\n",
    "    return model_pred"
   ]
  },
  {
   "cell_type": "code",
   "execution_count": 81,
   "metadata": {},
   "outputs": [
    {
     "ename": "ValueError",
     "evalue": "could not convert string to float: 'shovel'",
     "output_type": "error",
     "traceback": [
      "\u001b[0;31m---------------------------------------------------------------------------\u001b[0m",
      "\u001b[0;31mValueError\u001b[0m                                Traceback (most recent call last)",
      "\u001b[0;32m<ipython-input-81-30cca35ffc8a>\u001b[0m in \u001b[0;36m<module>\u001b[0;34m()\u001b[0m\n\u001b[1;32m      1\u001b[0m \u001b[0mlr\u001b[0m \u001b[0;34m=\u001b[0m \u001b[0mLinearRegression\u001b[0m\u001b[0;34m(\u001b[0m\u001b[0;34m)\u001b[0m\u001b[0;34m\u001b[0m\u001b[0m\n\u001b[0;32m----> 2\u001b[0;31m \u001b[0mlr_mae\u001b[0m \u001b[0;34m=\u001b[0m \u001b[0mfit_and_evaluate\u001b[0m\u001b[0;34m(\u001b[0m\u001b[0mlr\u001b[0m\u001b[0;34m)\u001b[0m\u001b[0;34m\u001b[0m\u001b[0m\n\u001b[0m\u001b[1;32m      3\u001b[0m \u001b[0;34m\u001b[0m\u001b[0m\n\u001b[1;32m      4\u001b[0m \u001b[0mprint\u001b[0m\u001b[0;34m(\u001b[0m\u001b[0;34m'Linear Regression Performance on the test set: MAE = %0.4f'\u001b[0m \u001b[0;34m%\u001b[0m \u001b[0mlr_mae\u001b[0m\u001b[0;34m)\u001b[0m\u001b[0;34m\u001b[0m\u001b[0m\n",
      "\u001b[0;32m<ipython-input-80-c6dbd3617976>\u001b[0m in \u001b[0;36mfit_and_evaluate\u001b[0;34m(model)\u001b[0m\n\u001b[1;32m      7\u001b[0m \u001b[0;34m\u001b[0m\u001b[0m\n\u001b[1;32m      8\u001b[0m     \u001b[0;31m# Train the model\u001b[0m\u001b[0;34m\u001b[0m\u001b[0;34m\u001b[0m\u001b[0m\n\u001b[0;32m----> 9\u001b[0;31m     \u001b[0mmodel\u001b[0m\u001b[0;34m.\u001b[0m\u001b[0mfit\u001b[0m\u001b[0;34m(\u001b[0m\u001b[0mX\u001b[0m\u001b[0;34m,\u001b[0m \u001b[0my\u001b[0m\u001b[0;34m)\u001b[0m\u001b[0;34m\u001b[0m\u001b[0m\n\u001b[0m\u001b[1;32m     10\u001b[0m \u001b[0;34m\u001b[0m\u001b[0m\n\u001b[1;32m     11\u001b[0m     \u001b[0;31m# Make predictions and evalute c.est la y_pred\u001b[0m\u001b[0;34m\u001b[0m\u001b[0;34m\u001b[0m\u001b[0m\n",
      "\u001b[0;32m~/anaconda3/lib/python3.6/site-packages/sklearn/linear_model/base.py\u001b[0m in \u001b[0;36mfit\u001b[0;34m(self, X, y, sample_weight)\u001b[0m\n\u001b[1;32m    487\u001b[0m         X, y, X_offset, y_offset, X_scale = self._preprocess_data(\n\u001b[1;32m    488\u001b[0m             \u001b[0mX\u001b[0m\u001b[0;34m,\u001b[0m \u001b[0my\u001b[0m\u001b[0;34m,\u001b[0m \u001b[0mfit_intercept\u001b[0m\u001b[0;34m=\u001b[0m\u001b[0mself\u001b[0m\u001b[0;34m.\u001b[0m\u001b[0mfit_intercept\u001b[0m\u001b[0;34m,\u001b[0m \u001b[0mnormalize\u001b[0m\u001b[0;34m=\u001b[0m\u001b[0mself\u001b[0m\u001b[0;34m.\u001b[0m\u001b[0mnormalize\u001b[0m\u001b[0;34m,\u001b[0m\u001b[0;34m\u001b[0m\u001b[0m\n\u001b[0;32m--> 489\u001b[0;31m             copy=self.copy_X, sample_weight=sample_weight)\n\u001b[0m\u001b[1;32m    490\u001b[0m \u001b[0;34m\u001b[0m\u001b[0m\n\u001b[1;32m    491\u001b[0m         \u001b[0;32mif\u001b[0m \u001b[0msample_weight\u001b[0m \u001b[0;32mis\u001b[0m \u001b[0;32mnot\u001b[0m \u001b[0;32mNone\u001b[0m\u001b[0;34m:\u001b[0m\u001b[0;34m\u001b[0m\u001b[0m\n",
      "\u001b[0;32m~/anaconda3/lib/python3.6/site-packages/sklearn/linear_model/base.py\u001b[0m in \u001b[0;36m_preprocess_data\u001b[0;34m(X, y, fit_intercept, normalize, copy, sample_weight, return_mean)\u001b[0m\n\u001b[1;32m    167\u001b[0m     X = check_array(X, copy=copy, accept_sparse=['csr', 'csc'],\n\u001b[1;32m    168\u001b[0m                     dtype=FLOAT_DTYPES)\n\u001b[0;32m--> 169\u001b[0;31m     \u001b[0my\u001b[0m \u001b[0;34m=\u001b[0m \u001b[0mnp\u001b[0m\u001b[0;34m.\u001b[0m\u001b[0masarray\u001b[0m\u001b[0;34m(\u001b[0m\u001b[0my\u001b[0m\u001b[0;34m,\u001b[0m \u001b[0mdtype\u001b[0m\u001b[0;34m=\u001b[0m\u001b[0mX\u001b[0m\u001b[0;34m.\u001b[0m\u001b[0mdtype\u001b[0m\u001b[0;34m)\u001b[0m\u001b[0;34m\u001b[0m\u001b[0m\n\u001b[0m\u001b[1;32m    170\u001b[0m \u001b[0;34m\u001b[0m\u001b[0m\n\u001b[1;32m    171\u001b[0m     \u001b[0;32mif\u001b[0m \u001b[0mfit_intercept\u001b[0m\u001b[0;34m:\u001b[0m\u001b[0;34m\u001b[0m\u001b[0m\n",
      "\u001b[0;32m~/anaconda3/lib/python3.6/site-packages/numpy/core/numeric.py\u001b[0m in \u001b[0;36masarray\u001b[0;34m(a, dtype, order)\u001b[0m\n\u001b[1;32m    490\u001b[0m \u001b[0;34m\u001b[0m\u001b[0m\n\u001b[1;32m    491\u001b[0m     \"\"\"\n\u001b[0;32m--> 492\u001b[0;31m     \u001b[0;32mreturn\u001b[0m \u001b[0marray\u001b[0m\u001b[0;34m(\u001b[0m\u001b[0ma\u001b[0m\u001b[0;34m,\u001b[0m \u001b[0mdtype\u001b[0m\u001b[0;34m,\u001b[0m \u001b[0mcopy\u001b[0m\u001b[0;34m=\u001b[0m\u001b[0;32mFalse\u001b[0m\u001b[0;34m,\u001b[0m \u001b[0morder\u001b[0m\u001b[0;34m=\u001b[0m\u001b[0morder\u001b[0m\u001b[0;34m)\u001b[0m\u001b[0;34m\u001b[0m\u001b[0m\n\u001b[0m\u001b[1;32m    493\u001b[0m \u001b[0;34m\u001b[0m\u001b[0m\n\u001b[1;32m    494\u001b[0m \u001b[0;34m\u001b[0m\u001b[0m\n",
      "\u001b[0;31mValueError\u001b[0m: could not convert string to float: 'shovel'"
     ]
    }
   ],
   "source": [
    "lr = LinearRegression()\n",
    "lr_mae = fit_and_evaluate(lr)\n",
    "\n",
    "print('Linear Regression Performance on the test set: MAE = %0.4f' % lr_mae)"
   ]
  },
  {
   "cell_type": "code",
   "execution_count": null,
   "metadata": {},
   "outputs": [],
   "source": []
  }
 ],
 "metadata": {
  "kernelspec": {
   "display_name": "Python 3",
   "language": "python",
   "name": "python3"
  },
  "language_info": {
   "codemirror_mode": {
    "name": "ipython",
    "version": 3
   },
   "file_extension": ".py",
   "mimetype": "text/x-python",
   "name": "python",
   "nbconvert_exporter": "python",
   "pygments_lexer": "ipython3",
   "version": "3.6.5"
  }
 },
 "nbformat": 4,
 "nbformat_minor": 2
}
